{
 "cells": [
  {
   "cell_type": "code",
   "execution_count": 1,
   "metadata": {
    "collapsed": true
   },
   "outputs": [],
   "source": [
    "import numpy as np\n",
    "import glob, os\n",
    "import pandas as pd\n",
    "import io\n",
    "import requests\n",
    "import datetime\n",
    "import re\n",
    "import geopandas as gpd\n",
    "import imageio\n",
    "import pygifsicle\n",
    "\n",
    "from tqdm import tqdm_notebook as tqdm\n",
    "\n",
    "# Plotting modules and settings.\n",
    "import matplotlib.pyplot as plt\n",
    "from matplotlib.patches import Patch \n",
    "\n",
    "import seaborn as sns\n",
    "sns.set(style='whitegrid', rc={'axes.labelsize': 16})\n",
    "\n",
    "import warnings\n",
    "warnings.filterwarnings('ignore')\n",
    "\n",
    "# The following is specific Jupyter notebooks\n",
    "%matplotlib inline\n",
    "%config InlineBackend.figure_formats = {'pdf', 'retina'}"
   ]
  },
  {
   "cell_type": "code",
   "execution_count": null,
   "metadata": {
    "collapsed": true
   },
   "outputs": [],
   "source": []
  }
 ],
 "metadata": {
  "kernelspec": {
   "display_name": "Python 3",
   "language": "python",
   "name": "python3"
  },
  "language_info": {
   "codemirror_mode": {
    "name": "ipython",
    "version": 3
   },
   "file_extension": ".py",
   "mimetype": "text/x-python",
   "name": "python",
   "nbconvert_exporter": "python",
   "pygments_lexer": "ipython3",
   "version": "3.6.8"
  }
 },
 "nbformat": 4,
 "nbformat_minor": 2
}
